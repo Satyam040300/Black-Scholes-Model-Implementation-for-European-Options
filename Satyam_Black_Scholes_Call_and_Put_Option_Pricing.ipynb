{
  "nbformat": 4,
  "nbformat_minor": 0,
  "metadata": {
    "colab": {
      "provenance": []
    },
    "kernelspec": {
      "name": "python3",
      "display_name": "Python 3"
    },
    "language_info": {
      "name": "python"
    }
  },
  "cells": [
    {
      "cell_type": "code",
      "execution_count": 4,
      "metadata": {
        "colab": {
          "base_uri": "https://localhost:8080/"
        },
        "id": "-JQ9oNW_MmQT",
        "outputId": "782871c6-8130-4c68-dbda-2d9dbc96c2f6"
      },
      "outputs": [
        {
          "output_type": "stream",
          "name": "stdout",
          "text": [
            "Black-Scholes Call Price: 10.450583572185565\n",
            "Black-Scholes Put Price: 5.573526022256971\n"
          ]
        }
      ],
      "source": [
        "import math\n",
        "from scipy.stats import norm\n",
        "\n",
        "# Black-Scholes Model for European Call Option\n",
        "def black_scholes_call(S0, K, T, r, sigma):\n",
        "    d1 = (math.log(S0 / K) + (r + 0.5 * sigma**2) * T) / (sigma * math.sqrt(T))\n",
        "    d2 = d1 - sigma * math.sqrt(T)\n",
        "    call_price = S0 * norm.cdf(d1) - K * math.exp(-r * T) * norm.cdf(d2)\n",
        "    return call_price\n",
        "\n",
        "# Black-Scholes Model for European Put Option\n",
        "def black_scholes_put(S0, K, T, r, sigma):\n",
        "    d1 = (math.log(S0 / K) + (r + 0.5 * sigma**2) * T) / (sigma * math.sqrt(T))\n",
        "    d2 = d1 - sigma * math.sqrt(T)\n",
        "    put_price = K * math.exp(-r * T) * norm.cdf(-d2) - S0 * norm.cdf(-d1)\n",
        "    return put_price\n",
        "\n",
        "# Example Inputs for Black-Scholes model\n",
        "S0 = 100  # Initial stock price\n",
        "K = 100   # Strike price\n",
        "T = 1     # Time to maturity (1 year)\n",
        "r = 0.05  # Risk-free interest rate\n",
        "sigma = 0.2  # Volatility (20%)\n",
        "\n",
        "# Calculate the Call and Put prices using Black-Scholes model\n",
        "call_price_bs = black_scholes_call(S0, K, T, r, sigma)\n",
        "put_price_bs = black_scholes_put(S0, K, T, r, sigma)\n",
        "\n",
        "# Output the result\n",
        "print(f\"Black-Scholes Call Price: {call_price_bs}\")\n",
        "print(f\"Black-Scholes Put Price: {put_price_bs}\")\n"
      ]
    },
    {
      "cell_type": "code",
      "source": [],
      "metadata": {
        "id": "23Uyfep9MnaQ"
      },
      "execution_count": null,
      "outputs": []
    }
  ]
}